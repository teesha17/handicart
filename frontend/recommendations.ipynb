{
 "cells": [
  {
   "cell_type": "code",
   "execution_count": 38,
   "metadata": {},
   "outputs": [],
   "source": [
    "import numpy as np\n",
    "import pandas as pd"
   ]
  },
  {
   "cell_type": "code",
   "execution_count": 39,
   "metadata": {},
   "outputs": [
    {
     "data": {
      "text/html": [
       "<div>\n",
       "<style scoped>\n",
       "    .dataframe tbody tr th:only-of-type {\n",
       "        vertical-align: middle;\n",
       "    }\n",
       "\n",
       "    .dataframe tbody tr th {\n",
       "        vertical-align: top;\n",
       "    }\n",
       "\n",
       "    .dataframe thead th {\n",
       "        text-align: right;\n",
       "    }\n",
       "</style>\n",
       "<table border=\"1\" class=\"dataframe\">\n",
       "  <thead>\n",
       "    <tr style=\"text-align: right;\">\n",
       "      <th></th>\n",
       "      <th>Name</th>\n",
       "      <th>Price</th>\n",
       "      <th>Description</th>\n",
       "      <th>Category</th>\n",
       "    </tr>\n",
       "  </thead>\n",
       "  <tbody>\n",
       "    <tr>\n",
       "      <th>0</th>\n",
       "      <td>Hand-Painted Ceramic Vase</td>\n",
       "      <td>45.99</td>\n",
       "      <td>A beautifully hand-painted ceramic vase with i...</td>\n",
       "      <td>Home Decor</td>\n",
       "    </tr>\n",
       "    <tr>\n",
       "      <th>1</th>\n",
       "      <td>Wooden Carved Elephant</td>\n",
       "      <td>29.50</td>\n",
       "      <td>A small wooden elephant intricately carved by ...</td>\n",
       "      <td>Home Decor</td>\n",
       "    </tr>\n",
       "  </tbody>\n",
       "</table>\n",
       "</div>"
      ],
      "text/plain": [
       "                        Name  Price  \\\n",
       "0  Hand-Painted Ceramic Vase  45.99   \n",
       "1     Wooden Carved Elephant  29.50   \n",
       "\n",
       "                                         Description    Category  \n",
       "0  A beautifully hand-painted ceramic vase with i...  Home Decor  \n",
       "1  A small wooden elephant intricately carved by ...  Home Decor  "
      ]
     },
     "execution_count": 39,
     "metadata": {},
     "output_type": "execute_result"
    }
   ],
   "source": [
    "product = pd.read_csv('data/products.csv')\n",
    "product.head(2)"
   ]
  },
  {
   "cell_type": "code",
   "execution_count": 40,
   "metadata": {},
   "outputs": [
    {
     "data": {
      "text/plain": [
       "(99, 4)"
      ]
     },
     "execution_count": 40,
     "metadata": {},
     "output_type": "execute_result"
    }
   ],
   "source": [
    "product.shape"
   ]
  },
  {
   "cell_type": "code",
   "execution_count": 41,
   "metadata": {},
   "outputs": [
    {
     "data": {
      "text/plain": [
       "'Home Decor'"
      ]
     },
     "execution_count": 41,
     "metadata": {},
     "output_type": "execute_result"
    }
   ],
   "source": [
    "product.iloc[0]['Category']"
   ]
  },
  {
   "cell_type": "code",
   "execution_count": 42,
   "metadata": {},
   "outputs": [
    {
     "data": {
      "text/html": [
       "<div>\n",
       "<style scoped>\n",
       "    .dataframe tbody tr th:only-of-type {\n",
       "        vertical-align: middle;\n",
       "    }\n",
       "\n",
       "    .dataframe tbody tr th {\n",
       "        vertical-align: top;\n",
       "    }\n",
       "\n",
       "    .dataframe thead th {\n",
       "        text-align: right;\n",
       "    }\n",
       "</style>\n",
       "<table border=\"1\" class=\"dataframe\">\n",
       "  <thead>\n",
       "    <tr style=\"text-align: right;\">\n",
       "      <th></th>\n",
       "      <th>Name</th>\n",
       "      <th>Price</th>\n",
       "      <th>Description</th>\n",
       "      <th>Category</th>\n",
       "    </tr>\n",
       "  </thead>\n",
       "  <tbody>\n",
       "    <tr>\n",
       "      <th>0</th>\n",
       "      <td>Hand-Painted Ceramic Vase</td>\n",
       "      <td>45.99</td>\n",
       "      <td>[A, beautifully, hand-painted, ceramic, vase, ...</td>\n",
       "      <td>Home Decor</td>\n",
       "    </tr>\n",
       "    <tr>\n",
       "      <th>1</th>\n",
       "      <td>Wooden Carved Elephant</td>\n",
       "      <td>29.50</td>\n",
       "      <td>[A, small, wooden, elephant, intricately, carv...</td>\n",
       "      <td>Home Decor</td>\n",
       "    </tr>\n",
       "    <tr>\n",
       "      <th>2</th>\n",
       "      <td>Handwoven Cotton Scarf</td>\n",
       "      <td>22.00</td>\n",
       "      <td>[A, soft, and, colorful, handwoven, scarf, mad...</td>\n",
       "      <td>Apparel</td>\n",
       "    </tr>\n",
       "    <tr>\n",
       "      <th>3</th>\n",
       "      <td>Glass Bead Necklace</td>\n",
       "      <td>35.75</td>\n",
       "      <td>[A, delicate, necklace, made, from, hand-strun...</td>\n",
       "      <td>Jewelry</td>\n",
       "    </tr>\n",
       "    <tr>\n",
       "      <th>4</th>\n",
       "      <td>Embroidered Cushion Cover</td>\n",
       "      <td>18.00</td>\n",
       "      <td>[A, vibrant, cushion, cover, with, detailed, h...</td>\n",
       "      <td>Home Decor</td>\n",
       "    </tr>\n",
       "  </tbody>\n",
       "</table>\n",
       "</div>"
      ],
      "text/plain": [
       "                        Name  Price  \\\n",
       "0  Hand-Painted Ceramic Vase  45.99   \n",
       "1     Wooden Carved Elephant  29.50   \n",
       "2     Handwoven Cotton Scarf  22.00   \n",
       "3        Glass Bead Necklace  35.75   \n",
       "4  Embroidered Cushion Cover  18.00   \n",
       "\n",
       "                                         Description    Category  \n",
       "0  [A, beautifully, hand-painted, ceramic, vase, ...  Home Decor  \n",
       "1  [A, small, wooden, elephant, intricately, carv...  Home Decor  \n",
       "2  [A, soft, and, colorful, handwoven, scarf, mad...     Apparel  \n",
       "3  [A, delicate, necklace, made, from, hand-strun...     Jewelry  \n",
       "4  [A, vibrant, cushion, cover, with, detailed, h...  Home Decor  "
      ]
     },
     "execution_count": 42,
     "metadata": {},
     "output_type": "execute_result"
    }
   ],
   "source": [
    "product['Description']=product['Description'].apply(lambda x:x.split())\n",
    "product.head()"
   ]
  },
  {
   "cell_type": "code",
   "execution_count": 43,
   "metadata": {},
   "outputs": [
    {
     "data": {
      "text/html": [
       "<div>\n",
       "<style scoped>\n",
       "    .dataframe tbody tr th:only-of-type {\n",
       "        vertical-align: middle;\n",
       "    }\n",
       "\n",
       "    .dataframe tbody tr th {\n",
       "        vertical-align: top;\n",
       "    }\n",
       "\n",
       "    .dataframe thead th {\n",
       "        text-align: right;\n",
       "    }\n",
       "</style>\n",
       "<table border=\"1\" class=\"dataframe\">\n",
       "  <thead>\n",
       "    <tr style=\"text-align: right;\">\n",
       "      <th></th>\n",
       "      <th>Name</th>\n",
       "      <th>Price</th>\n",
       "      <th>Description</th>\n",
       "      <th>Category</th>\n",
       "    </tr>\n",
       "  </thead>\n",
       "  <tbody>\n",
       "    <tr>\n",
       "      <th>0</th>\n",
       "      <td>Hand-Painted Ceramic Vase</td>\n",
       "      <td>45.99</td>\n",
       "      <td>[A, beautifully, hand-painted, ceramic, vase, ...</td>\n",
       "      <td>[Home, Decor]</td>\n",
       "    </tr>\n",
       "    <tr>\n",
       "      <th>1</th>\n",
       "      <td>Wooden Carved Elephant</td>\n",
       "      <td>29.50</td>\n",
       "      <td>[A, small, wooden, elephant, intricately, carv...</td>\n",
       "      <td>[Home, Decor]</td>\n",
       "    </tr>\n",
       "    <tr>\n",
       "      <th>2</th>\n",
       "      <td>Handwoven Cotton Scarf</td>\n",
       "      <td>22.00</td>\n",
       "      <td>[A, soft, and, colorful, handwoven, scarf, mad...</td>\n",
       "      <td>[Apparel]</td>\n",
       "    </tr>\n",
       "    <tr>\n",
       "      <th>3</th>\n",
       "      <td>Glass Bead Necklace</td>\n",
       "      <td>35.75</td>\n",
       "      <td>[A, delicate, necklace, made, from, hand-strun...</td>\n",
       "      <td>[Jewelry]</td>\n",
       "    </tr>\n",
       "    <tr>\n",
       "      <th>4</th>\n",
       "      <td>Embroidered Cushion Cover</td>\n",
       "      <td>18.00</td>\n",
       "      <td>[A, vibrant, cushion, cover, with, detailed, h...</td>\n",
       "      <td>[Home, Decor]</td>\n",
       "    </tr>\n",
       "  </tbody>\n",
       "</table>\n",
       "</div>"
      ],
      "text/plain": [
       "                        Name  Price  \\\n",
       "0  Hand-Painted Ceramic Vase  45.99   \n",
       "1     Wooden Carved Elephant  29.50   \n",
       "2     Handwoven Cotton Scarf  22.00   \n",
       "3        Glass Bead Necklace  35.75   \n",
       "4  Embroidered Cushion Cover  18.00   \n",
       "\n",
       "                                         Description       Category  \n",
       "0  [A, beautifully, hand-painted, ceramic, vase, ...  [Home, Decor]  \n",
       "1  [A, small, wooden, elephant, intricately, carv...  [Home, Decor]  \n",
       "2  [A, soft, and, colorful, handwoven, scarf, mad...      [Apparel]  \n",
       "3  [A, delicate, necklace, made, from, hand-strun...      [Jewelry]  \n",
       "4  [A, vibrant, cushion, cover, with, detailed, h...  [Home, Decor]  "
      ]
     },
     "execution_count": 43,
     "metadata": {},
     "output_type": "execute_result"
    }
   ],
   "source": [
    "product['Category']=product['Category'].apply(lambda x:x.split())\n",
    "product.head()"
   ]
  },
  {
   "cell_type": "code",
   "execution_count": 44,
   "metadata": {},
   "outputs": [],
   "source": [
    "def remove_space(word):\n",
    "    l=[]\n",
    "    for i in word:\n",
    "        l.append(i.replace(\" \",\"\"))\n",
    "    return l"
   ]
  },
  {
   "cell_type": "code",
   "execution_count": 45,
   "metadata": {},
   "outputs": [
    {
     "data": {
      "text/plain": [
       "['A',\n",
       " 'beautifully',\n",
       " 'hand-painted',\n",
       " 'ceramic',\n",
       " 'vase',\n",
       " 'with',\n",
       " 'intricate',\n",
       " 'floral',\n",
       " 'designs.']"
      ]
     },
     "execution_count": 45,
     "metadata": {},
     "output_type": "execute_result"
    }
   ],
   "source": [
    "product.iloc[0]['Description']"
   ]
  },
  {
   "cell_type": "code",
   "execution_count": 46,
   "metadata": {},
   "outputs": [
    {
     "data": {
      "text/html": [
       "<div>\n",
       "<style scoped>\n",
       "    .dataframe tbody tr th:only-of-type {\n",
       "        vertical-align: middle;\n",
       "    }\n",
       "\n",
       "    .dataframe tbody tr th {\n",
       "        vertical-align: top;\n",
       "    }\n",
       "\n",
       "    .dataframe thead th {\n",
       "        text-align: right;\n",
       "    }\n",
       "</style>\n",
       "<table border=\"1\" class=\"dataframe\">\n",
       "  <thead>\n",
       "    <tr style=\"text-align: right;\">\n",
       "      <th></th>\n",
       "      <th>Name</th>\n",
       "      <th>Price</th>\n",
       "      <th>Description</th>\n",
       "      <th>Category</th>\n",
       "    </tr>\n",
       "  </thead>\n",
       "  <tbody>\n",
       "    <tr>\n",
       "      <th>0</th>\n",
       "      <td>Hand-Painted Ceramic Vase</td>\n",
       "      <td>45.99</td>\n",
       "      <td>[A, beautifully, hand-painted, ceramic, vase, ...</td>\n",
       "      <td>[Home, Decor]</td>\n",
       "    </tr>\n",
       "    <tr>\n",
       "      <th>1</th>\n",
       "      <td>Wooden Carved Elephant</td>\n",
       "      <td>29.50</td>\n",
       "      <td>[A, small, wooden, elephant, intricately, carv...</td>\n",
       "      <td>[Home, Decor]</td>\n",
       "    </tr>\n",
       "    <tr>\n",
       "      <th>2</th>\n",
       "      <td>Handwoven Cotton Scarf</td>\n",
       "      <td>22.00</td>\n",
       "      <td>[A, soft, and, colorful, handwoven, scarf, mad...</td>\n",
       "      <td>[Apparel]</td>\n",
       "    </tr>\n",
       "    <tr>\n",
       "      <th>3</th>\n",
       "      <td>Glass Bead Necklace</td>\n",
       "      <td>35.75</td>\n",
       "      <td>[A, delicate, necklace, made, from, hand-strun...</td>\n",
       "      <td>[Jewelry]</td>\n",
       "    </tr>\n",
       "    <tr>\n",
       "      <th>4</th>\n",
       "      <td>Embroidered Cushion Cover</td>\n",
       "      <td>18.00</td>\n",
       "      <td>[A, vibrant, cushion, cover, with, detailed, h...</td>\n",
       "      <td>[Home, Decor]</td>\n",
       "    </tr>\n",
       "  </tbody>\n",
       "</table>\n",
       "</div>"
      ],
      "text/plain": [
       "                        Name  Price  \\\n",
       "0  Hand-Painted Ceramic Vase  45.99   \n",
       "1     Wooden Carved Elephant  29.50   \n",
       "2     Handwoven Cotton Scarf  22.00   \n",
       "3        Glass Bead Necklace  35.75   \n",
       "4  Embroidered Cushion Cover  18.00   \n",
       "\n",
       "                                         Description       Category  \n",
       "0  [A, beautifully, hand-painted, ceramic, vase, ...  [Home, Decor]  \n",
       "1  [A, small, wooden, elephant, intricately, carv...  [Home, Decor]  \n",
       "2  [A, soft, and, colorful, handwoven, scarf, mad...      [Apparel]  \n",
       "3  [A, delicate, necklace, made, from, hand-strun...      [Jewelry]  \n",
       "4  [A, vibrant, cushion, cover, with, detailed, h...  [Home, Decor]  "
      ]
     },
     "execution_count": 46,
     "metadata": {},
     "output_type": "execute_result"
    }
   ],
   "source": [
    "product.head()"
   ]
  },
  {
   "cell_type": "code",
   "execution_count": 47,
   "metadata": {},
   "outputs": [
    {
     "data": {
      "text/html": [
       "<div>\n",
       "<style scoped>\n",
       "    .dataframe tbody tr th:only-of-type {\n",
       "        vertical-align: middle;\n",
       "    }\n",
       "\n",
       "    .dataframe tbody tr th {\n",
       "        vertical-align: top;\n",
       "    }\n",
       "\n",
       "    .dataframe thead th {\n",
       "        text-align: right;\n",
       "    }\n",
       "</style>\n",
       "<table border=\"1\" class=\"dataframe\">\n",
       "  <thead>\n",
       "    <tr style=\"text-align: right;\">\n",
       "      <th></th>\n",
       "      <th>Name</th>\n",
       "      <th>Price</th>\n",
       "      <th>Description</th>\n",
       "      <th>Category</th>\n",
       "    </tr>\n",
       "  </thead>\n",
       "  <tbody>\n",
       "    <tr>\n",
       "      <th>0</th>\n",
       "      <td>Hand-Painted Ceramic Vase</td>\n",
       "      <td>45.99</td>\n",
       "      <td>[A, beautifully, hand-painted, ceramic, vase, ...</td>\n",
       "      <td>[Home, Decor]</td>\n",
       "    </tr>\n",
       "    <tr>\n",
       "      <th>1</th>\n",
       "      <td>Wooden Carved Elephant</td>\n",
       "      <td>29.50</td>\n",
       "      <td>[A, small, wooden, elephant, intricately, carv...</td>\n",
       "      <td>[Home, Decor]</td>\n",
       "    </tr>\n",
       "  </tbody>\n",
       "</table>\n",
       "</div>"
      ],
      "text/plain": [
       "                        Name  Price  \\\n",
       "0  Hand-Painted Ceramic Vase  45.99   \n",
       "1     Wooden Carved Elephant  29.50   \n",
       "\n",
       "                                         Description       Category  \n",
       "0  [A, beautifully, hand-painted, ceramic, vase, ...  [Home, Decor]  \n",
       "1  [A, small, wooden, elephant, intricately, carv...  [Home, Decor]  "
      ]
     },
     "execution_count": 47,
     "metadata": {},
     "output_type": "execute_result"
    }
   ],
   "source": [
    "product.head(2)"
   ]
  },
  {
   "cell_type": "code",
   "execution_count": 48,
   "metadata": {},
   "outputs": [],
   "source": [
    "product['tags'] = product['Description']+product['Category']"
   ]
  },
  {
   "cell_type": "code",
   "execution_count": 49,
   "metadata": {},
   "outputs": [
    {
     "data": {
      "text/plain": [
       "<bound method NDFrame.head of                                 Name  Price  \\\n",
       "0          Hand-Painted Ceramic Vase  45.99   \n",
       "1             Wooden Carved Elephant  29.50   \n",
       "2             Handwoven Cotton Scarf  22.00   \n",
       "3                Glass Bead Necklace  35.75   \n",
       "4          Embroidered Cushion Cover  18.00   \n",
       "..                               ...    ...   \n",
       "94          Leather Handmade Journal  45.00   \n",
       "95          Handcrafted Ceramic Bowl  28.00   \n",
       "96                Knitted Woolen Hat  22.00   \n",
       "97           Handwoven Bamboo Basket  30.00   \n",
       "98  Beaded Necklace and Bracelet Set  40.00   \n",
       "\n",
       "                                          Description       Category  \\\n",
       "0   [A, beautifully, hand-painted, ceramic, vase, ...  [Home, Decor]   \n",
       "1   [A, small, wooden, elephant, intricately, carv...  [Home, Decor]   \n",
       "2   [A, soft, and, colorful, handwoven, scarf, mad...      [Apparel]   \n",
       "3   [A, delicate, necklace, made, from, hand-strun...      [Jewelry]   \n",
       "4   [A, vibrant, cushion, cover, with, detailed, h...  [Home, Decor]   \n",
       "..                                                ...            ...   \n",
       "94  [A, journal, hand-stitched, from, leather, wit...   [Stationery]   \n",
       "95      [A, bowl, made, from, hand-painted, ceramic.]  [Kitchenware]   \n",
       "96          [A, hat, hand-knitted, from, soft, wool.]      [Apparel]   \n",
       "97  [A, basket, woven, from, natural, bamboo, fibe...  [Home, Decor]   \n",
       "98  [A, matching, set, of, necklace, and, bracelet...      [Jewelry]   \n",
       "\n",
       "                                                 tags  \n",
       "0   [A, beautifully, hand-painted, ceramic, vase, ...  \n",
       "1   [A, small, wooden, elephant, intricately, carv...  \n",
       "2   [A, soft, and, colorful, handwoven, scarf, mad...  \n",
       "3   [A, delicate, necklace, made, from, hand-strun...  \n",
       "4   [A, vibrant, cushion, cover, with, detailed, h...  \n",
       "..                                                ...  \n",
       "94  [A, journal, hand-stitched, from, leather, wit...  \n",
       "95  [A, bowl, made, from, hand-painted, ceramic., ...  \n",
       "96  [A, hat, hand-knitted, from, soft, wool., Appa...  \n",
       "97  [A, basket, woven, from, natural, bamboo, fibe...  \n",
       "98  [A, matching, set, of, necklace, and, bracelet...  \n",
       "\n",
       "[99 rows x 5 columns]>"
      ]
     },
     "execution_count": 49,
     "metadata": {},
     "output_type": "execute_result"
    }
   ],
   "source": [
    "product.head"
   ]
  },
  {
   "cell_type": "code",
   "execution_count": 50,
   "metadata": {},
   "outputs": [
    {
     "data": {
      "text/html": [
       "<div>\n",
       "<style scoped>\n",
       "    .dataframe tbody tr th:only-of-type {\n",
       "        vertical-align: middle;\n",
       "    }\n",
       "\n",
       "    .dataframe tbody tr th {\n",
       "        vertical-align: top;\n",
       "    }\n",
       "\n",
       "    .dataframe thead th {\n",
       "        text-align: right;\n",
       "    }\n",
       "</style>\n",
       "<table border=\"1\" class=\"dataframe\">\n",
       "  <thead>\n",
       "    <tr style=\"text-align: right;\">\n",
       "      <th></th>\n",
       "      <th>Name</th>\n",
       "      <th>Price</th>\n",
       "      <th>Description</th>\n",
       "      <th>Category</th>\n",
       "      <th>tags</th>\n",
       "    </tr>\n",
       "  </thead>\n",
       "  <tbody>\n",
       "    <tr>\n",
       "      <th>0</th>\n",
       "      <td>Hand-Painted Ceramic Vase</td>\n",
       "      <td>45.99</td>\n",
       "      <td>[A, beautifully, hand-painted, ceramic, vase, ...</td>\n",
       "      <td>[Home, Decor]</td>\n",
       "      <td>[A, beautifully, hand-painted, ceramic, vase, ...</td>\n",
       "    </tr>\n",
       "    <tr>\n",
       "      <th>1</th>\n",
       "      <td>Wooden Carved Elephant</td>\n",
       "      <td>29.50</td>\n",
       "      <td>[A, small, wooden, elephant, intricately, carv...</td>\n",
       "      <td>[Home, Decor]</td>\n",
       "      <td>[A, small, wooden, elephant, intricately, carv...</td>\n",
       "    </tr>\n",
       "  </tbody>\n",
       "</table>\n",
       "</div>"
      ],
      "text/plain": [
       "                        Name  Price  \\\n",
       "0  Hand-Painted Ceramic Vase  45.99   \n",
       "1     Wooden Carved Elephant  29.50   \n",
       "\n",
       "                                         Description       Category  \\\n",
       "0  [A, beautifully, hand-painted, ceramic, vase, ...  [Home, Decor]   \n",
       "1  [A, small, wooden, elephant, intricately, carv...  [Home, Decor]   \n",
       "\n",
       "                                                tags  \n",
       "0  [A, beautifully, hand-painted, ceramic, vase, ...  \n",
       "1  [A, small, wooden, elephant, intricately, carv...  "
      ]
     },
     "execution_count": 50,
     "metadata": {},
     "output_type": "execute_result"
    }
   ],
   "source": [
    "product.head(2)"
   ]
  },
  {
   "cell_type": "code",
   "execution_count": 51,
   "metadata": {},
   "outputs": [
    {
     "data": {
      "text/plain": [
       "['A',\n",
       " 'beautifully',\n",
       " 'hand-painted',\n",
       " 'ceramic',\n",
       " 'vase',\n",
       " 'with',\n",
       " 'intricate',\n",
       " 'floral',\n",
       " 'designs.',\n",
       " 'Home',\n",
       " 'Decor']"
      ]
     },
     "execution_count": 51,
     "metadata": {},
     "output_type": "execute_result"
    }
   ],
   "source": [
    "product.iloc[0]['tags']"
   ]
  },
  {
   "cell_type": "code",
   "execution_count": 52,
   "metadata": {},
   "outputs": [
    {
     "data": {
      "text/html": [
       "<div>\n",
       "<style scoped>\n",
       "    .dataframe tbody tr th:only-of-type {\n",
       "        vertical-align: middle;\n",
       "    }\n",
       "\n",
       "    .dataframe tbody tr th {\n",
       "        vertical-align: top;\n",
       "    }\n",
       "\n",
       "    .dataframe thead th {\n",
       "        text-align: right;\n",
       "    }\n",
       "</style>\n",
       "<table border=\"1\" class=\"dataframe\">\n",
       "  <thead>\n",
       "    <tr style=\"text-align: right;\">\n",
       "      <th></th>\n",
       "      <th>Name</th>\n",
       "      <th>Price</th>\n",
       "      <th>tags</th>\n",
       "    </tr>\n",
       "  </thead>\n",
       "  <tbody>\n",
       "    <tr>\n",
       "      <th>0</th>\n",
       "      <td>Hand-Painted Ceramic Vase</td>\n",
       "      <td>45.99</td>\n",
       "      <td>[A, beautifully, hand-painted, ceramic, vase, ...</td>\n",
       "    </tr>\n",
       "    <tr>\n",
       "      <th>1</th>\n",
       "      <td>Wooden Carved Elephant</td>\n",
       "      <td>29.50</td>\n",
       "      <td>[A, small, wooden, elephant, intricately, carv...</td>\n",
       "    </tr>\n",
       "    <tr>\n",
       "      <th>2</th>\n",
       "      <td>Handwoven Cotton Scarf</td>\n",
       "      <td>22.00</td>\n",
       "      <td>[A, soft, and, colorful, handwoven, scarf, mad...</td>\n",
       "    </tr>\n",
       "    <tr>\n",
       "      <th>3</th>\n",
       "      <td>Glass Bead Necklace</td>\n",
       "      <td>35.75</td>\n",
       "      <td>[A, delicate, necklace, made, from, hand-strun...</td>\n",
       "    </tr>\n",
       "    <tr>\n",
       "      <th>4</th>\n",
       "      <td>Embroidered Cushion Cover</td>\n",
       "      <td>18.00</td>\n",
       "      <td>[A, vibrant, cushion, cover, with, detailed, h...</td>\n",
       "    </tr>\n",
       "  </tbody>\n",
       "</table>\n",
       "</div>"
      ],
      "text/plain": [
       "                        Name  Price  \\\n",
       "0  Hand-Painted Ceramic Vase  45.99   \n",
       "1     Wooden Carved Elephant  29.50   \n",
       "2     Handwoven Cotton Scarf  22.00   \n",
       "3        Glass Bead Necklace  35.75   \n",
       "4  Embroidered Cushion Cover  18.00   \n",
       "\n",
       "                                                tags  \n",
       "0  [A, beautifully, hand-painted, ceramic, vase, ...  \n",
       "1  [A, small, wooden, elephant, intricately, carv...  \n",
       "2  [A, soft, and, colorful, handwoven, scarf, mad...  \n",
       "3  [A, delicate, necklace, made, from, hand-strun...  \n",
       "4  [A, vibrant, cushion, cover, with, detailed, h...  "
      ]
     },
     "execution_count": 52,
     "metadata": {},
     "output_type": "execute_result"
    }
   ],
   "source": [
    "new_df = product[['Name','Price','tags']]\n",
    "new_df.head()"
   ]
  },
  {
   "cell_type": "code",
   "execution_count": 53,
   "metadata": {},
   "outputs": [
    {
     "name": "stderr",
     "output_type": "stream",
     "text": [
      "C:\\Users\\HP\\AppData\\Local\\Temp\\ipykernel_16028\\3089450492.py:1: SettingWithCopyWarning: \n",
      "A value is trying to be set on a copy of a slice from a DataFrame.\n",
      "Try using .loc[row_indexer,col_indexer] = value instead\n",
      "\n",
      "See the caveats in the documentation: https://pandas.pydata.org/pandas-docs/stable/user_guide/indexing.html#returning-a-view-versus-a-copy\n",
      "  new_df['tags'] = new_df['tags'].apply(lambda x:\" \".join(x))\n"
     ]
    }
   ],
   "source": [
    "new_df['tags'] = new_df['tags'].apply(lambda x:\" \".join(x))"
   ]
  },
  {
   "cell_type": "code",
   "execution_count": 54,
   "metadata": {},
   "outputs": [
    {
     "data": {
      "text/html": [
       "<div>\n",
       "<style scoped>\n",
       "    .dataframe tbody tr th:only-of-type {\n",
       "        vertical-align: middle;\n",
       "    }\n",
       "\n",
       "    .dataframe tbody tr th {\n",
       "        vertical-align: top;\n",
       "    }\n",
       "\n",
       "    .dataframe thead th {\n",
       "        text-align: right;\n",
       "    }\n",
       "</style>\n",
       "<table border=\"1\" class=\"dataframe\">\n",
       "  <thead>\n",
       "    <tr style=\"text-align: right;\">\n",
       "      <th></th>\n",
       "      <th>Name</th>\n",
       "      <th>Price</th>\n",
       "      <th>tags</th>\n",
       "    </tr>\n",
       "  </thead>\n",
       "  <tbody>\n",
       "    <tr>\n",
       "      <th>0</th>\n",
       "      <td>Hand-Painted Ceramic Vase</td>\n",
       "      <td>45.99</td>\n",
       "      <td>A beautifully hand-painted ceramic vase with i...</td>\n",
       "    </tr>\n",
       "    <tr>\n",
       "      <th>1</th>\n",
       "      <td>Wooden Carved Elephant</td>\n",
       "      <td>29.50</td>\n",
       "      <td>A small wooden elephant intricately carved by ...</td>\n",
       "    </tr>\n",
       "    <tr>\n",
       "      <th>2</th>\n",
       "      <td>Handwoven Cotton Scarf</td>\n",
       "      <td>22.00</td>\n",
       "      <td>A soft and colorful handwoven scarf made from ...</td>\n",
       "    </tr>\n",
       "    <tr>\n",
       "      <th>3</th>\n",
       "      <td>Glass Bead Necklace</td>\n",
       "      <td>35.75</td>\n",
       "      <td>A delicate necklace made from hand-strung glas...</td>\n",
       "    </tr>\n",
       "    <tr>\n",
       "      <th>4</th>\n",
       "      <td>Embroidered Cushion Cover</td>\n",
       "      <td>18.00</td>\n",
       "      <td>A vibrant cushion cover with detailed hand emb...</td>\n",
       "    </tr>\n",
       "  </tbody>\n",
       "</table>\n",
       "</div>"
      ],
      "text/plain": [
       "                        Name  Price  \\\n",
       "0  Hand-Painted Ceramic Vase  45.99   \n",
       "1     Wooden Carved Elephant  29.50   \n",
       "2     Handwoven Cotton Scarf  22.00   \n",
       "3        Glass Bead Necklace  35.75   \n",
       "4  Embroidered Cushion Cover  18.00   \n",
       "\n",
       "                                                tags  \n",
       "0  A beautifully hand-painted ceramic vase with i...  \n",
       "1  A small wooden elephant intricately carved by ...  \n",
       "2  A soft and colorful handwoven scarf made from ...  \n",
       "3  A delicate necklace made from hand-strung glas...  \n",
       "4  A vibrant cushion cover with detailed hand emb...  "
      ]
     },
     "execution_count": 54,
     "metadata": {},
     "output_type": "execute_result"
    }
   ],
   "source": [
    "new_df.head()"
   ]
  },
  {
   "cell_type": "code",
   "execution_count": 55,
   "metadata": {},
   "outputs": [
    {
     "name": "stderr",
     "output_type": "stream",
     "text": [
      "C:\\Users\\HP\\AppData\\Local\\Temp\\ipykernel_16028\\1380776331.py:1: SettingWithCopyWarning: \n",
      "A value is trying to be set on a copy of a slice from a DataFrame.\n",
      "Try using .loc[row_indexer,col_indexer] = value instead\n",
      "\n",
      "See the caveats in the documentation: https://pandas.pydata.org/pandas-docs/stable/user_guide/indexing.html#returning-a-view-versus-a-copy\n",
      "  new_df['tags'] = new_df['tags'].apply(lambda x: x.lower())\n"
     ]
    }
   ],
   "source": [
    "new_df['tags'] = new_df['tags'].apply(lambda x: x.lower())"
   ]
  },
  {
   "cell_type": "code",
   "execution_count": 56,
   "metadata": {},
   "outputs": [
    {
     "data": {
      "text/html": [
       "<div>\n",
       "<style scoped>\n",
       "    .dataframe tbody tr th:only-of-type {\n",
       "        vertical-align: middle;\n",
       "    }\n",
       "\n",
       "    .dataframe tbody tr th {\n",
       "        vertical-align: top;\n",
       "    }\n",
       "\n",
       "    .dataframe thead th {\n",
       "        text-align: right;\n",
       "    }\n",
       "</style>\n",
       "<table border=\"1\" class=\"dataframe\">\n",
       "  <thead>\n",
       "    <tr style=\"text-align: right;\">\n",
       "      <th></th>\n",
       "      <th>Name</th>\n",
       "      <th>Price</th>\n",
       "      <th>tags</th>\n",
       "    </tr>\n",
       "  </thead>\n",
       "  <tbody>\n",
       "    <tr>\n",
       "      <th>0</th>\n",
       "      <td>Hand-Painted Ceramic Vase</td>\n",
       "      <td>45.99</td>\n",
       "      <td>a beautifully hand-painted ceramic vase with i...</td>\n",
       "    </tr>\n",
       "    <tr>\n",
       "      <th>1</th>\n",
       "      <td>Wooden Carved Elephant</td>\n",
       "      <td>29.50</td>\n",
       "      <td>a small wooden elephant intricately carved by ...</td>\n",
       "    </tr>\n",
       "    <tr>\n",
       "      <th>2</th>\n",
       "      <td>Handwoven Cotton Scarf</td>\n",
       "      <td>22.00</td>\n",
       "      <td>a soft and colorful handwoven scarf made from ...</td>\n",
       "    </tr>\n",
       "    <tr>\n",
       "      <th>3</th>\n",
       "      <td>Glass Bead Necklace</td>\n",
       "      <td>35.75</td>\n",
       "      <td>a delicate necklace made from hand-strung glas...</td>\n",
       "    </tr>\n",
       "    <tr>\n",
       "      <th>4</th>\n",
       "      <td>Embroidered Cushion Cover</td>\n",
       "      <td>18.00</td>\n",
       "      <td>a vibrant cushion cover with detailed hand emb...</td>\n",
       "    </tr>\n",
       "  </tbody>\n",
       "</table>\n",
       "</div>"
      ],
      "text/plain": [
       "                        Name  Price  \\\n",
       "0  Hand-Painted Ceramic Vase  45.99   \n",
       "1     Wooden Carved Elephant  29.50   \n",
       "2     Handwoven Cotton Scarf  22.00   \n",
       "3        Glass Bead Necklace  35.75   \n",
       "4  Embroidered Cushion Cover  18.00   \n",
       "\n",
       "                                                tags  \n",
       "0  a beautifully hand-painted ceramic vase with i...  \n",
       "1  a small wooden elephant intricately carved by ...  \n",
       "2  a soft and colorful handwoven scarf made from ...  \n",
       "3  a delicate necklace made from hand-strung glas...  \n",
       "4  a vibrant cushion cover with detailed hand emb...  "
      ]
     },
     "execution_count": 56,
     "metadata": {},
     "output_type": "execute_result"
    }
   ],
   "source": [
    "new_df.head()"
   ]
  },
  {
   "cell_type": "code",
   "execution_count": 57,
   "metadata": {},
   "outputs": [
    {
     "name": "stdout",
     "output_type": "stream",
     "text": [
      "Found existing installation: nltk 3.8.1\n",
      "Uninstalling nltk-3.8.1:\n",
      "  Successfully uninstalled nltk-3.8.1\n",
      "Found existing installation: regex 2024.7.24\n",
      "Uninstalling regex-2024.7.24:\n",
      "  Successfully uninstalled regex-2024.7.24\n"
     ]
    },
    {
     "name": "stderr",
     "output_type": "stream",
     "text": [
      "WARNING: Failed to remove contents in a temporary directory 'C:\\Users\\HP\\AppData\\Roaming\\Python\\Python312\\site-packages\\~-gex'.\n",
      "You can safely remove it manually.\n"
     ]
    }
   ],
   "source": [
    "!pip uninstall nltk -y\n",
    "!pip uninstall regex -y"
   ]
  },
  {
   "cell_type": "code",
   "execution_count": 58,
   "metadata": {},
   "outputs": [
    {
     "name": "stdout",
     "output_type": "stream",
     "text": [
      "Defaulting to user installation because normal site-packages is not writeable\n",
      "Collecting nltk\n",
      "  Using cached nltk-3.8.1-py3-none-any.whl.metadata (2.8 kB)\n",
      "Collecting regex\n",
      "  Using cached regex-2024.7.24-cp312-cp312-win_amd64.whl.metadata (41 kB)\n",
      "Requirement already satisfied: click in c:\\users\\hp\\appdata\\roaming\\python\\python312\\site-packages (from nltk) (8.1.7)\n",
      "Requirement already satisfied: joblib in c:\\users\\hp\\appdata\\roaming\\python\\python312\\site-packages (from nltk) (1.4.2)\n",
      "Requirement already satisfied: tqdm in c:\\users\\hp\\appdata\\roaming\\python\\python312\\site-packages (from nltk) (4.66.4)\n",
      "Requirement already satisfied: colorama in c:\\users\\hp\\appdata\\roaming\\python\\python312\\site-packages (from click->nltk) (0.4.6)\n",
      "Using cached nltk-3.8.1-py3-none-any.whl (1.5 MB)\n",
      "Using cached regex-2024.7.24-cp312-cp312-win_amd64.whl (269 kB)\n",
      "Installing collected packages: regex, nltk\n",
      "Successfully installed nltk-3.8.1 regex-2024.7.24\n"
     ]
    }
   ],
   "source": [
    "!pip install nltk regex"
   ]
  },
  {
   "cell_type": "code",
   "execution_count": 59,
   "metadata": {},
   "outputs": [],
   "source": [
    "import nltk\n",
    "from nltk.stem import PorterStemmer\n",
    "ps = PorterStemmer()\n",
    "def stems(text):\n",
    "    l=[]\n",
    "    for i in text.split():\n",
    "        l.append(ps.stem(i))\n",
    "    return \" \".join(l)"
   ]
  },
  {
   "cell_type": "code",
   "execution_count": 60,
   "metadata": {},
   "outputs": [
    {
     "name": "stderr",
     "output_type": "stream",
     "text": [
      "C:\\Users\\HP\\AppData\\Local\\Temp\\ipykernel_16028\\3973021881.py:1: SettingWithCopyWarning: \n",
      "A value is trying to be set on a copy of a slice from a DataFrame.\n",
      "Try using .loc[row_indexer,col_indexer] = value instead\n",
      "\n",
      "See the caveats in the documentation: https://pandas.pydata.org/pandas-docs/stable/user_guide/indexing.html#returning-a-view-versus-a-copy\n",
      "  new_df['tags'] = new_df['tags'].apply(stems)\n"
     ]
    }
   ],
   "source": [
    "new_df['tags'] = new_df['tags'].apply(stems)"
   ]
  },
  {
   "cell_type": "code",
   "execution_count": 61,
   "metadata": {},
   "outputs": [
    {
     "data": {
      "text/plain": [
       "'a beauti hand-paint ceram vase with intric floral designs. home decor'"
      ]
     },
     "execution_count": 61,
     "metadata": {},
     "output_type": "execute_result"
    }
   ],
   "source": [
    "new_df.iloc[0]['tags']"
   ]
  },
  {
   "cell_type": "code",
   "execution_count": 62,
   "metadata": {},
   "outputs": [],
   "source": [
    "from sklearn.feature_extraction.text import CountVectorizer\n",
    "cv = CountVectorizer(max_features=5000, stop_words= 'english')"
   ]
  },
  {
   "cell_type": "code",
   "execution_count": 63,
   "metadata": {},
   "outputs": [],
   "source": [
    "vector = cv.fit_transform(new_df['tags']).toarray()"
   ]
  },
  {
   "cell_type": "code",
   "execution_count": 64,
   "metadata": {},
   "outputs": [
    {
     "data": {
      "text/plain": [
       "array([[0, 0, 0, ..., 0, 0, 0],\n",
       "       [0, 0, 0, ..., 1, 0, 0],\n",
       "       [1, 0, 0, ..., 0, 0, 0],\n",
       "       ...,\n",
       "       [0, 0, 0, ..., 0, 1, 0],\n",
       "       [0, 0, 0, ..., 0, 0, 1],\n",
       "       [0, 0, 0, ..., 0, 0, 0]], dtype=int64)"
      ]
     },
     "execution_count": 64,
     "metadata": {},
     "output_type": "execute_result"
    }
   ],
   "source": [
    "vector"
   ]
  },
  {
   "cell_type": "code",
   "execution_count": 65,
   "metadata": {},
   "outputs": [
    {
     "data": {
      "text/plain": [
       "(99, 177)"
      ]
     },
     "execution_count": 65,
     "metadata": {},
     "output_type": "execute_result"
    }
   ],
   "source": [
    "vector.shape"
   ]
  },
  {
   "cell_type": "code",
   "execution_count": 66,
   "metadata": {},
   "outputs": [
    {
     "data": {
      "text/plain": [
       "array([[1.        , 0.31622777, 0.        , ..., 0.12909944, 0.23904572,\n",
       "        0.1118034 ],\n",
       "       [0.31622777, 1.        , 0.        , ..., 0.        , 0.25197632,\n",
       "        0.        ],\n",
       "       [0.        , 0.        , 1.        , ..., 0.3086067 , 0.        ,\n",
       "        0.        ],\n",
       "       ...,\n",
       "       [0.12909944, 0.        , 0.3086067 , ..., 1.        , 0.        ,\n",
       "        0.14433757],\n",
       "       [0.23904572, 0.25197632, 0.        , ..., 0.        , 1.        ,\n",
       "        0.        ],\n",
       "       [0.1118034 , 0.        , 0.        , ..., 0.14433757, 0.        ,\n",
       "        1.        ]])"
      ]
     },
     "execution_count": 66,
     "metadata": {},
     "output_type": "execute_result"
    }
   ],
   "source": [
    "from sklearn.metrics.pairwise import cosine_similarity\n",
    "similarity = cosine_similarity(vector)\n",
    "similarity"
   ]
  },
  {
   "cell_type": "code",
   "execution_count": 67,
   "metadata": {},
   "outputs": [
    {
     "data": {
      "text/plain": [
       "(99, 99)"
      ]
     },
     "execution_count": 67,
     "metadata": {},
     "output_type": "execute_result"
    }
   ],
   "source": [
    "similarity.shape"
   ]
  },
  {
   "cell_type": "code",
   "execution_count": 68,
   "metadata": {},
   "outputs": [],
   "source": [
    "def recommend(movie):\n",
    "    index = new_df[new_df['Name'] == movie].index[0]\n",
    "    distances = sorted(list(enumerate(similarity[index])),reverse=True, key = lambda x:x[1])\n",
    "    for i in distances[1:6]:\n",
    "        print(new_df.iloc[i[0]].Name)"
   ]
  },
  {
   "cell_type": "code",
   "execution_count": 71,
   "metadata": {},
   "outputs": [
    {
     "name": "stdout",
     "output_type": "stream",
     "text": [
      "Hand-Embroidered Tablecloth\n",
      "Embroidered Wall Hanging\n",
      "Embroidered Cotton Table Runner\n",
      "Hand-Painted Glass Vase\n",
      "Wooden Carved Mask\n"
     ]
    }
   ],
   "source": [
    "recommend('Embroidered Cushion Cover')"
   ]
  },
  {
   "cell_type": "code",
   "execution_count": 70,
   "metadata": {},
   "outputs": [],
   "source": [
    "import pickle\n",
    "pickle.dump(new_df, open('artifacts/product_list.pkl','wb'))\n",
    "pickle.dump(similarity, open('artifacts/similarity.pkl','wb'))"
   ]
  }
 ],
 "metadata": {
  "kernelspec": {
   "display_name": "Python 3",
   "language": "python",
   "name": "python3"
  },
  "language_info": {
   "codemirror_mode": {
    "name": "ipython",
    "version": 3
   },
   "file_extension": ".py",
   "mimetype": "text/x-python",
   "name": "python",
   "nbconvert_exporter": "python",
   "pygments_lexer": "ipython3",
   "version": "3.12.4"
  }
 },
 "nbformat": 4,
 "nbformat_minor": 2
}
